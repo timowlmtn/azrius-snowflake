{
 "metadata": {
  "kernelspec": {
   "display_name": "Streamlit Notebook",
   "name": "streamlit"
  },
  "lastEditStatus": {
   "notebookId": "eweo7cfgaol7p3vcgpjh",
   "authorId": "5713202290",
   "authorName": "TIMBURNSOWLMTN1",
   "authorEmail": "timburnsowlmtn@gmail.com",
   "sessionId": "80428bf7-d828-412e-ab22-244da248db8b",
   "lastEditTime": 1746831592643
  }
 },
 "nbformat_minor": 5,
 "nbformat": 4,
 "cells": [
  {
   "cell_type": "code",
   "id": "3775908f-ca36-4846-8f38-5adca39217f2",
   "metadata": {
    "language": "python",
    "name": "cell1"
   },
   "source": "# Import python packages\nimport streamlit as st\nimport pandas as pd\n\n# We can also use Snowpark for our analyses!\nfrom snowflake.snowpark.context import get_active_session\nsession = get_active_session()\n",
   "execution_count": null,
   "outputs": []
  },
  {
   "cell_type": "code",
   "id": "712853b9-dd18-4254-84b3-a6d5951beacc",
   "metadata": {
    "language": "python",
    "name": "cell2"
   },
   "outputs": [],
   "source": "sales = session.table(\"SALES\").to_pandas()\npurchase = session.table(\"PURCHASES\").to_pandas()\ninvoice = session.table(\"INVOICE_PURCHASE\").to_pandas()\nend_inv = session.table(\"END_INV\").to_pandas()\nbeg_inv = session.table(\"BEG_INV\").to_pandas()",
   "execution_count": null
  },
  {
   "cell_type": "code",
   "id": "b04ef243-9fe9-46f4-9d7a-32ff2672a18a",
   "metadata": {
    "language": "python",
    "name": "cell3"
   },
   "outputs": [],
   "source": "display(beg_inv.head())\ndisplay(end_inv.head())\n",
   "execution_count": null
  },
  {
   "cell_type": "code",
   "id": "8f5bf0de-5e75-476c-9fc4-0f444d62b1b5",
   "metadata": {
    "language": "python",
    "name": "cell4"
   },
   "outputs": [],
   "source": "nuniques = {\"beg_inv\": beg_inv.nunique(), \"end_inv\": end_inv.nunique()}",
   "execution_count": null
  },
  {
   "cell_type": "code",
   "id": "ae9bfb31-ff17-4636-b125-e8214aa9b0f5",
   "metadata": {
    "language": "python",
    "name": "cell5"
   },
   "outputs": [],
   "source": "display(\n    pd.DataFrame(nuniques).T[\n        [\n            \"INVENTORYID\",\n            \"STORE\",\n            \"CITY\",\n            \"BRAND\",\n            \"DESCRIPTION\",\n            \"SIZE\",\n            \"ONHAND\",\n            \"BEGINDATE\",\n            \"ENDDATE\",\n        ]\n    ]\n)",
   "execution_count": null
  },
  {
   "cell_type": "code",
   "id": "7e1c0b41-4a82-46b0-a13e-4279a36abd6d",
   "metadata": {
    "language": "python",
    "name": "cell6"
   },
   "outputs": [],
   "source": "print(\n    f\"BEG_INV BRAND nunique: {beg_inv.BRAND.nunique()}, desc + size nunique: {(beg_inv['DESCRIPTION'] + ' ' + beg_inv['SIZE']).nunique()}??? Might need cleaning\"\n)\nprint(\n    f\"end_inv Brand nunique: {end_inv.BRAND.nunique()}, desc + size nunique: {(end_inv['DESCRIPTION'] + ' ' + end_inv['SIZE']).nunique()}\"\n)",
   "execution_count": null
  },
  {
   "cell_type": "code",
   "id": "699dc0e3-fd97-4a7d-9ae5-8111225535d2",
   "metadata": {
    "language": "python",
    "name": "cell7"
   },
   "outputs": [],
   "source": "beg_inv_brand = beg_inv.loc[:]\nbeg_inv_brand[\"DESC_SIZE\"] = beg_inv_brand[\"DESCRIPTION\"] + \" \" + beg_inv_brand[\"SIZE\"]\ngroup_desc = (\n    beg_inv_brand[[\"BRAND\", \"DESC_SIZE\"]].groupby(\"DESC_SIZE\")[\"BRAND\"].unique()\n)\ngroup_desc.loc[group_desc.apply(len) > 1]",
   "execution_count": null
  },
  {
   "cell_type": "code",
   "id": "a96a6cdc-05fa-4273-969b-2fa9a4cc82e1",
   "metadata": {
    "language": "python",
    "name": "cell8"
   },
   "outputs": [],
   "source": "display(sales.head())\ndisplay(\n    beg_inv.loc[\n        (beg_inv[\"BRAND\"] == 1004) & (beg_inv[\"INVENTORYID\"] == \"1_HARDERSFIELD_1004\")\n    ]\n)\n# ? Inventory ID = store_city_brand, Brand = description + Size, With Inventory ID we can find how many onhand the inventory have at the beginning and end.\nprint(sales.CLASSIFICATION.unique())",
   "execution_count": null
  }
 ]
}